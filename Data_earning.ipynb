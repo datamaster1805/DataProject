{
 "cells": [
  {
   "cell_type": "code",
   "execution_count": 36,
   "metadata": {},
   "outputs": [],
   "source": [
    "import pandas as pd\n",
    "import numpy as np\n",
    "from matplotlib import pyplot as plt\n",
    "%matplotlib inline"
   ]
  },
  {
   "cell_type": "markdown",
   "metadata": {},
   "source": [
    "### 读取原始数据"
   ]
  },
  {
   "cell_type": "code",
   "execution_count": 37,
   "metadata": {},
   "outputs": [],
   "source": [
    "df_raw = pd.read_csv('D:/BaiduNetdiskDownload/spider_money.csv')\n",
    "# df_raw.head(30)"
   ]
  },
  {
   "cell_type": "code",
   "execution_count": 38,
   "metadata": {},
   "outputs": [
    {
     "data": {
      "text/html": [
       "<div>\n",
       "<style scoped>\n",
       "    .dataframe tbody tr th:only-of-type {\n",
       "        vertical-align: middle;\n",
       "    }\n",
       "\n",
       "    .dataframe tbody tr th {\n",
       "        vertical-align: top;\n",
       "    }\n",
       "\n",
       "    .dataframe thead th {\n",
       "        text-align: right;\n",
       "    }\n",
       "</style>\n",
       "<table border=\"1\" class=\"dataframe\">\n",
       "  <thead>\n",
       "    <tr style=\"text-align: right;\">\n",
       "      <th></th>\n",
       "      <th>p_code</th>\n",
       "      <th>p_name</th>\n",
       "      <th>earning</th>\n",
       "      <th>start_date</th>\n",
       "      <th>earn_7d</th>\n",
       "      <th>earn_14d</th>\n",
       "      <th>earn_28d</th>\n",
       "      <th>earn_35d</th>\n",
       "      <th>path_1m</th>\n",
       "      <th>path_3m</th>\n",
       "      <th>path_6m</th>\n",
       "      <th>path_1y</th>\n",
       "      <th>start_money</th>\n",
       "    </tr>\n",
       "  </thead>\n",
       "  <tbody>\n",
       "    <tr>\n",
       "      <th>0</th>\n",
       "      <td>439</td>\n",
       "      <td>国金鑫盈货币</td>\n",
       "      <td>0.0415</td>\n",
       "      <td>01-17</td>\n",
       "      <td>0.1800%</td>\n",
       "      <td>0.21%</td>\n",
       "      <td>0.65%</td>\n",
       "      <td>0.85%</td>\n",
       "      <td>0.06%</td>\n",
       "      <td>0.39%</td>\n",
       "      <td>0.65%</td>\n",
       "      <td>1.80%</td>\n",
       "      <td>100元</td>\n",
       "    </tr>\n",
       "    <tr>\n",
       "      <th>1</th>\n",
       "      <td>20031</td>\n",
       "      <td>国泰现金管理货币A</td>\n",
       "      <td>0.2936</td>\n",
       "      <td>01-17</td>\n",
       "      <td>0.9900%</td>\n",
       "      <td>0.86%</td>\n",
       "      <td>1.28%</td>\n",
       "      <td>1.30%</td>\n",
       "      <td>0.11%</td>\n",
       "      <td>0.32%</td>\n",
       "      <td>0.63%</td>\n",
       "      <td>1.85%</td>\n",
       "      <td>100元</td>\n",
       "    </tr>\n",
       "    <tr>\n",
       "      <th>2</th>\n",
       "      <td>20032</td>\n",
       "      <td>国泰现金管理货币B</td>\n",
       "      <td>0.3594</td>\n",
       "      <td>01-17</td>\n",
       "      <td>1.2290%</td>\n",
       "      <td>1.10%</td>\n",
       "      <td>1.52%</td>\n",
       "      <td>1.53%</td>\n",
       "      <td>0.13%</td>\n",
       "      <td>0.38%</td>\n",
       "      <td>0.76%</td>\n",
       "      <td>2.10%</td>\n",
       "      <td>500万</td>\n",
       "    </tr>\n",
       "    <tr>\n",
       "      <th>3</th>\n",
       "      <td>20007</td>\n",
       "      <td>国泰货币</td>\n",
       "      <td>0.5178</td>\n",
       "      <td>01-17</td>\n",
       "      <td>1.8710%</td>\n",
       "      <td>2.00%</td>\n",
       "      <td>2.02%</td>\n",
       "      <td>1.92%</td>\n",
       "      <td>0.17%</td>\n",
       "      <td>0.53%</td>\n",
       "      <td>1.16%</td>\n",
       "      <td>2.98%</td>\n",
       "      <td>100元</td>\n",
       "    </tr>\n",
       "    <tr>\n",
       "      <th>4</th>\n",
       "      <td>738</td>\n",
       "      <td>中信建投货币A</td>\n",
       "      <td>0.4997</td>\n",
       "      <td>01-17</td>\n",
       "      <td>1.8720%</td>\n",
       "      <td>2.18%</td>\n",
       "      <td>2.40%</td>\n",
       "      <td>2.35%</td>\n",
       "      <td>0.20%</td>\n",
       "      <td>0.60%</td>\n",
       "      <td>1.33%</td>\n",
       "      <td>2.86%</td>\n",
       "      <td>100元</td>\n",
       "    </tr>\n",
       "  </tbody>\n",
       "</table>\n",
       "</div>"
      ],
      "text/plain": [
       "   p_code     p_name earning start_date  earn_7d earn_14d earn_28d earn_35d  \\\n",
       "0     439     国金鑫盈货币  0.0415      01-17  0.1800%    0.21%    0.65%    0.85%   \n",
       "1   20031  国泰现金管理货币A  0.2936      01-17  0.9900%    0.86%    1.28%    1.30%   \n",
       "2   20032  国泰现金管理货币B  0.3594      01-17  1.2290%    1.10%    1.52%    1.53%   \n",
       "3   20007       国泰货币  0.5178      01-17  1.8710%    2.00%    2.02%    1.92%   \n",
       "4     738    中信建投货币A  0.4997      01-17  1.8720%    2.18%    2.40%    2.35%   \n",
       "\n",
       "  path_1m path_3m path_6m path_1y start_money  \n",
       "0   0.06%   0.39%   0.65%   1.80%        100元  \n",
       "1   0.11%   0.32%   0.63%   1.85%        100元  \n",
       "2   0.13%   0.38%   0.76%   2.10%        500万  \n",
       "3   0.17%   0.53%   1.16%   2.98%        100元  \n",
       "4   0.20%   0.60%   1.33%   2.86%        100元  "
      ]
     },
     "execution_count": 38,
     "metadata": {},
     "output_type": "execute_result"
    }
   ],
   "source": [
    "df = df_raw.replace(to_replace='--',value=np.nan)\n",
    "df = df.replace(to_replace='---',value=np.nan)\n",
    "df.head()"
   ]
  },
  {
   "cell_type": "code",
   "execution_count": 39,
   "metadata": {},
   "outputs": [],
   "source": [
    "df['start_money'] = df['start_money'].map(lambda x:x.rstrip('元') if x.endswith('元') else (x.rstrip('万')+'0000'))"
   ]
  },
  {
   "cell_type": "code",
   "execution_count": 40,
   "metadata": {},
   "outputs": [],
   "source": [
    "df['earning']=pd.to_numeric(df['earning'])"
   ]
  },
  {
   "cell_type": "code",
   "execution_count": 41,
   "metadata": {},
   "outputs": [],
   "source": [
    "df['path_1m'] = df['path_1m'].map(lambda x:x.rstrip('%'))"
   ]
  },
  {
   "cell_type": "code",
   "execution_count": 42,
   "metadata": {},
   "outputs": [],
   "source": [
    "df['path_3m'] = df['path_3m'].map(lambda x:x.rstrip('%'))"
   ]
  },
  {
   "cell_type": "code",
   "execution_count": 43,
   "metadata": {},
   "outputs": [],
   "source": [
    "df['path_6m'] = df['path_6m'].map(lambda x:x.rstrip('%'))"
   ]
  },
  {
   "cell_type": "code",
   "execution_count": 44,
   "metadata": {},
   "outputs": [],
   "source": [
    "df['path_1y'] = df['path_1y'].map(lambda x:x.rstrip('%'))"
   ]
  },
  {
   "cell_type": "code",
   "execution_count": 45,
   "metadata": {},
   "outputs": [],
   "source": [
    "df['start_money'] = df['start_money'].astype('int64')"
   ]
  },
  {
   "cell_type": "code",
   "execution_count": 46,
   "metadata": {},
   "outputs": [],
   "source": [
    "df.loc[7,['earn_7d']]= '0.00%'"
   ]
  },
  {
   "cell_type": "code",
   "execution_count": 47,
   "metadata": {},
   "outputs": [],
   "source": [
    "df['earn_7d'] =df['earn_7d'].map(lambda x:x.rstrip('%'))"
   ]
  },
  {
   "cell_type": "code",
   "execution_count": 48,
   "metadata": {},
   "outputs": [],
   "source": [
    "df.loc[7,['earn_14d']]= '0.00%'\n",
    "df.loc[7,['earn_28d']]= '0.00%'\n",
    "df.loc[7,['earn_35d']]= '0.00%'\n",
    "df['earn_14d'] =df['earn_14d'].map(lambda x:x.rstrip('%'))\n",
    "df['earn_28d'] =df['earn_28d'].map(lambda x:x.rstrip('%'))\n",
    "df['earn_35d'] =df['earn_35d'].map(lambda x:x.rstrip('%'))"
   ]
  },
  {
   "cell_type": "code",
   "execution_count": 49,
   "metadata": {},
   "outputs": [],
   "source": [
    "# df.drop([(7, 'earn_7d')],axis=1,inplace=True)"
   ]
  },
  {
   "cell_type": "code",
   "execution_count": 50,
   "metadata": {},
   "outputs": [
    {
     "data": {
      "text/plain": [
       "0.6930583333333334"
      ]
     },
     "execution_count": 50,
     "metadata": {},
     "output_type": "execute_result"
    }
   ],
   "source": [
    "df.groupby(df['start_money'] == 5000000)['earning'].mean()[1]"
   ]
  },
  {
   "cell_type": "code",
   "execution_count": 51,
   "metadata": {},
   "outputs": [],
   "source": [
    "df.loc[7,['earning']] = df.groupby(df['start_money'] == 5000000)['earning'].mean()[1]"
   ]
  },
  {
   "cell_type": "code",
   "execution_count": 52,
   "metadata": {},
   "outputs": [
    {
     "data": {
      "text/plain": [
       "earning    0.693058\n",
       "Name: 7, dtype: object"
      ]
     },
     "execution_count": 52,
     "metadata": {},
     "output_type": "execute_result"
    }
   ],
   "source": [
    "df.loc[7,['earning']]"
   ]
  },
  {
   "cell_type": "code",
   "execution_count": 53,
   "metadata": {},
   "outputs": [],
   "source": [
    "df.loc[7,['start_date']] = '01-17'"
   ]
  },
  {
   "cell_type": "code",
   "execution_count": 54,
   "metadata": {},
   "outputs": [],
   "source": [
    "df['earn_7d'] = df['earn_7d'].astype('float64')"
   ]
  },
  {
   "cell_type": "code",
   "execution_count": 55,
   "metadata": {},
   "outputs": [],
   "source": [
    "df['earn_14d'] = df['earn_14d'].astype('float64')\n",
    "df['earn_28d'] = df['earn_28d'].astype('float64')\n",
    "df['earn_35d'] = df['earn_35d'].astype('float64')\n",
    "df['path_1m'] = df['path_1m'].astype('float64')\n",
    "df['path_3m'] = df['path_3m'].astype('float64')\n",
    "df['path_6m'] = df['path_6m'].astype('float64')\n",
    "df['path_1y'] = df['path_1y'].astype('float64')"
   ]
  },
  {
   "cell_type": "code",
   "execution_count": 56,
   "metadata": {},
   "outputs": [],
   "source": [
    "df['start_date'] = pd.to_datetime(df['start_date'],format='%m-%d')"
   ]
  },
  {
   "cell_type": "code",
   "execution_count": 57,
   "metadata": {},
   "outputs": [],
   "source": [
    "df.loc[7,['earn_7d']] = df.groupby(df['start_money'] == 5000000)['earn_7d'].mean()[1]"
   ]
  },
  {
   "cell_type": "code",
   "execution_count": 58,
   "metadata": {},
   "outputs": [
    {
     "data": {
      "text/plain": [
       "earn_7d    2.212538\n",
       "Name: 7, dtype: float64"
      ]
     },
     "execution_count": 58,
     "metadata": {},
     "output_type": "execute_result"
    }
   ],
   "source": [
    "df.loc[7,['earn_7d']].astype('float64')"
   ]
  },
  {
   "cell_type": "code",
   "execution_count": 59,
   "metadata": {},
   "outputs": [],
   "source": [
    "df.loc[7,['earn_14d']] = df.groupby(df['start_money'] == 5000000)['earn_14d'].mean()[1]"
   ]
  },
  {
   "cell_type": "code",
   "execution_count": 60,
   "metadata": {},
   "outputs": [
    {
     "data": {
      "text/plain": [
       "earn_14d    2.283846\n",
       "Name: 7, dtype: float64"
      ]
     },
     "execution_count": 60,
     "metadata": {},
     "output_type": "execute_result"
    }
   ],
   "source": [
    "df.loc[7,['earn_14d']].astype('float64')"
   ]
  },
  {
   "cell_type": "code",
   "execution_count": 61,
   "metadata": {},
   "outputs": [
    {
     "data": {
      "text/plain": [
       "earn_35d    2.477692\n",
       "Name: 7, dtype: float64"
      ]
     },
     "execution_count": 61,
     "metadata": {},
     "output_type": "execute_result"
    }
   ],
   "source": [
    "df.loc[7,['earn_28d']] = df.groupby(df['start_money'] == 5000000)['earn_28d'].mean()[1]\n",
    "df.loc[7,['earn_35d']] = df.groupby(df['start_money'] == 5000000)['earn_35d'].mean()[1]\n",
    "df.loc[7,['earn_28d']].astype('float64')\n",
    "df.loc[7,['earn_35d']].astype('float64')"
   ]
  },
  {
   "cell_type": "code",
   "execution_count": 64,
   "metadata": {
    "collapsed": true
   },
   "outputs": [
    {
     "data": {
      "text/html": [
       "<div>\n",
       "<style scoped>\n",
       "    .dataframe tbody tr th:only-of-type {\n",
       "        vertical-align: middle;\n",
       "    }\n",
       "\n",
       "    .dataframe tbody tr th {\n",
       "        vertical-align: top;\n",
       "    }\n",
       "\n",
       "    .dataframe thead th {\n",
       "        text-align: right;\n",
       "    }\n",
       "</style>\n",
       "<table border=\"1\" class=\"dataframe\">\n",
       "  <thead>\n",
       "    <tr style=\"text-align: right;\">\n",
       "      <th></th>\n",
       "      <th>p_code</th>\n",
       "      <th>p_name</th>\n",
       "      <th>earning</th>\n",
       "      <th>start_date</th>\n",
       "      <th>earn_7d</th>\n",
       "      <th>earn_14d</th>\n",
       "      <th>earn_28d</th>\n",
       "      <th>earn_35d</th>\n",
       "      <th>path_1m</th>\n",
       "      <th>path_3m</th>\n",
       "      <th>path_6m</th>\n",
       "      <th>path_1y</th>\n",
       "      <th>start_money</th>\n",
       "    </tr>\n",
       "  </thead>\n",
       "  <tbody>\n",
       "    <tr>\n",
       "      <th>0</th>\n",
       "      <td>439</td>\n",
       "      <td>国金鑫盈货币</td>\n",
       "      <td>0.041500</td>\n",
       "      <td>1900-01-17</td>\n",
       "      <td>0.180000</td>\n",
       "      <td>0.210000</td>\n",
       "      <td>0.650000</td>\n",
       "      <td>0.850000</td>\n",
       "      <td>0.06</td>\n",
       "      <td>0.39</td>\n",
       "      <td>0.65</td>\n",
       "      <td>1.80</td>\n",
       "      <td>100</td>\n",
       "    </tr>\n",
       "    <tr>\n",
       "      <th>1</th>\n",
       "      <td>20031</td>\n",
       "      <td>国泰现金管理货币A</td>\n",
       "      <td>0.293600</td>\n",
       "      <td>1900-01-17</td>\n",
       "      <td>0.990000</td>\n",
       "      <td>0.860000</td>\n",
       "      <td>1.280000</td>\n",
       "      <td>1.300000</td>\n",
       "      <td>0.11</td>\n",
       "      <td>0.32</td>\n",
       "      <td>0.63</td>\n",
       "      <td>1.85</td>\n",
       "      <td>100</td>\n",
       "    </tr>\n",
       "    <tr>\n",
       "      <th>2</th>\n",
       "      <td>20032</td>\n",
       "      <td>国泰现金管理货币B</td>\n",
       "      <td>0.359400</td>\n",
       "      <td>1900-01-17</td>\n",
       "      <td>1.229000</td>\n",
       "      <td>1.100000</td>\n",
       "      <td>1.520000</td>\n",
       "      <td>1.530000</td>\n",
       "      <td>0.13</td>\n",
       "      <td>0.38</td>\n",
       "      <td>0.76</td>\n",
       "      <td>2.10</td>\n",
       "      <td>5000000</td>\n",
       "    </tr>\n",
       "    <tr>\n",
       "      <th>3</th>\n",
       "      <td>20007</td>\n",
       "      <td>国泰货币</td>\n",
       "      <td>0.517800</td>\n",
       "      <td>1900-01-17</td>\n",
       "      <td>1.871000</td>\n",
       "      <td>2.000000</td>\n",
       "      <td>2.020000</td>\n",
       "      <td>1.920000</td>\n",
       "      <td>0.17</td>\n",
       "      <td>0.53</td>\n",
       "      <td>1.16</td>\n",
       "      <td>2.98</td>\n",
       "      <td>100</td>\n",
       "    </tr>\n",
       "    <tr>\n",
       "      <th>4</th>\n",
       "      <td>738</td>\n",
       "      <td>中信建投货币A</td>\n",
       "      <td>0.499700</td>\n",
       "      <td>1900-01-17</td>\n",
       "      <td>1.872000</td>\n",
       "      <td>2.180000</td>\n",
       "      <td>2.400000</td>\n",
       "      <td>2.350000</td>\n",
       "      <td>0.20</td>\n",
       "      <td>0.60</td>\n",
       "      <td>1.33</td>\n",
       "      <td>2.86</td>\n",
       "      <td>100</td>\n",
       "    </tr>\n",
       "    <tr>\n",
       "      <th>5</th>\n",
       "      <td>3588</td>\n",
       "      <td>东吴增鑫宝货币A</td>\n",
       "      <td>0.557800</td>\n",
       "      <td>1900-01-17</td>\n",
       "      <td>1.986000</td>\n",
       "      <td>1.910000</td>\n",
       "      <td>2.420000</td>\n",
       "      <td>2.430000</td>\n",
       "      <td>0.21</td>\n",
       "      <td>0.59</td>\n",
       "      <td>1.28</td>\n",
       "      <td>3.13</td>\n",
       "      <td>100</td>\n",
       "    </tr>\n",
       "    <tr>\n",
       "      <th>6</th>\n",
       "      <td>1925</td>\n",
       "      <td>兴业鑫天盈货币A</td>\n",
       "      <td>0.598300</td>\n",
       "      <td>1900-01-17</td>\n",
       "      <td>2.217000</td>\n",
       "      <td>2.320000</td>\n",
       "      <td>2.480000</td>\n",
       "      <td>2.460000</td>\n",
       "      <td>0.21</td>\n",
       "      <td>0.59</td>\n",
       "      <td>1.22</td>\n",
       "      <td>3.01</td>\n",
       "      <td>100</td>\n",
       "    </tr>\n",
       "    <tr>\n",
       "      <th>7</th>\n",
       "      <td>4589</td>\n",
       "      <td>民生加银腾元宝货币B</td>\n",
       "      <td>0.693058</td>\n",
       "      <td>1900-01-17</td>\n",
       "      <td>2.212538</td>\n",
       "      <td>2.283846</td>\n",
       "      <td>2.505385</td>\n",
       "      <td>2.477692</td>\n",
       "      <td>0.21</td>\n",
       "      <td>0.69</td>\n",
       "      <td>1.62</td>\n",
       "      <td>3.70</td>\n",
       "      <td>5000000</td>\n",
       "    </tr>\n",
       "    <tr>\n",
       "      <th>8</th>\n",
       "      <td>981</td>\n",
       "      <td>北信瑞丰现金添利A</td>\n",
       "      <td>1.285000</td>\n",
       "      <td>1900-01-17</td>\n",
       "      <td>2.560000</td>\n",
       "      <td>2.490000</td>\n",
       "      <td>2.500000</td>\n",
       "      <td>2.470000</td>\n",
       "      <td>0.21</td>\n",
       "      <td>0.73</td>\n",
       "      <td>1.38</td>\n",
       "      <td>3.26</td>\n",
       "      <td>100</td>\n",
       "    </tr>\n",
       "    <tr>\n",
       "      <th>9</th>\n",
       "      <td>4985</td>\n",
       "      <td>博时合晶货币</td>\n",
       "      <td>0.677300</td>\n",
       "      <td>1900-01-17</td>\n",
       "      <td>2.419000</td>\n",
       "      <td>2.560000</td>\n",
       "      <td>2.500000</td>\n",
       "      <td>2.590000</td>\n",
       "      <td>0.21</td>\n",
       "      <td>0.59</td>\n",
       "      <td>1.30</td>\n",
       "      <td>3.30</td>\n",
       "      <td>100</td>\n",
       "    </tr>\n",
       "    <tr>\n",
       "      <th>10</th>\n",
       "      <td>583001</td>\n",
       "      <td>东吴货币A</td>\n",
       "      <td>0.631600</td>\n",
       "      <td>1900-01-17</td>\n",
       "      <td>2.376000</td>\n",
       "      <td>2.520000</td>\n",
       "      <td>2.520000</td>\n",
       "      <td>2.450000</td>\n",
       "      <td>0.21</td>\n",
       "      <td>0.67</td>\n",
       "      <td>1.29</td>\n",
       "      <td>3.05</td>\n",
       "      <td>100</td>\n",
       "    </tr>\n",
       "    <tr>\n",
       "      <th>11</th>\n",
       "      <td>683</td>\n",
       "      <td>信达澳银慧管家E</td>\n",
       "      <td>0.572200</td>\n",
       "      <td>1900-01-17</td>\n",
       "      <td>2.162000</td>\n",
       "      <td>2.220000</td>\n",
       "      <td>2.610000</td>\n",
       "      <td>2.520000</td>\n",
       "      <td>0.22</td>\n",
       "      <td>0.56</td>\n",
       "      <td>1.11</td>\n",
       "      <td>2.74</td>\n",
       "      <td>100</td>\n",
       "    </tr>\n",
       "    <tr>\n",
       "      <th>12</th>\n",
       "      <td>360003</td>\n",
       "      <td>光大货币</td>\n",
       "      <td>0.619000</td>\n",
       "      <td>1900-01-17</td>\n",
       "      <td>2.259000</td>\n",
       "      <td>2.440000</td>\n",
       "      <td>2.680000</td>\n",
       "      <td>2.650000</td>\n",
       "      <td>0.22</td>\n",
       "      <td>0.60</td>\n",
       "      <td>1.26</td>\n",
       "      <td>3.12</td>\n",
       "      <td>100</td>\n",
       "    </tr>\n",
       "    <tr>\n",
       "      <th>13</th>\n",
       "      <td>519588</td>\n",
       "      <td>交银货币A</td>\n",
       "      <td>0.635600</td>\n",
       "      <td>1900-01-17</td>\n",
       "      <td>2.230000</td>\n",
       "      <td>2.360000</td>\n",
       "      <td>2.600000</td>\n",
       "      <td>2.530000</td>\n",
       "      <td>0.22</td>\n",
       "      <td>0.55</td>\n",
       "      <td>1.17</td>\n",
       "      <td>2.93</td>\n",
       "      <td>100</td>\n",
       "    </tr>\n",
       "    <tr>\n",
       "      <th>14</th>\n",
       "      <td>901</td>\n",
       "      <td>国开货币A</td>\n",
       "      <td>0.595900</td>\n",
       "      <td>1900-01-17</td>\n",
       "      <td>2.206000</td>\n",
       "      <td>2.550000</td>\n",
       "      <td>2.620000</td>\n",
       "      <td>2.530000</td>\n",
       "      <td>0.22</td>\n",
       "      <td>0.64</td>\n",
       "      <td>1.43</td>\n",
       "      <td>3.40</td>\n",
       "      <td>100</td>\n",
       "    </tr>\n",
       "    <tr>\n",
       "      <th>15</th>\n",
       "      <td>1101</td>\n",
       "      <td>银华惠添益货币</td>\n",
       "      <td>0.654300</td>\n",
       "      <td>1900-01-17</td>\n",
       "      <td>2.404000</td>\n",
       "      <td>2.420000</td>\n",
       "      <td>2.630000</td>\n",
       "      <td>2.620000</td>\n",
       "      <td>0.22</td>\n",
       "      <td>0.65</td>\n",
       "      <td>1.65</td>\n",
       "      <td>3.36</td>\n",
       "      <td>100</td>\n",
       "    </tr>\n",
       "    <tr>\n",
       "      <th>16</th>\n",
       "      <td>2747</td>\n",
       "      <td>中欧货币C</td>\n",
       "      <td>0.619100</td>\n",
       "      <td>1900-01-17</td>\n",
       "      <td>2.205000</td>\n",
       "      <td>2.370000</td>\n",
       "      <td>2.660000</td>\n",
       "      <td>2.570000</td>\n",
       "      <td>0.22</td>\n",
       "      <td>0.61</td>\n",
       "      <td>1.30</td>\n",
       "      <td>3.17</td>\n",
       "      <td>100</td>\n",
       "    </tr>\n",
       "    <tr>\n",
       "      <th>17</th>\n",
       "      <td>4210</td>\n",
       "      <td>前海开源货币E</td>\n",
       "      <td>0.551400</td>\n",
       "      <td>1900-01-17</td>\n",
       "      <td>2.248000</td>\n",
       "      <td>2.230000</td>\n",
       "      <td>2.540000</td>\n",
       "      <td>2.620000</td>\n",
       "      <td>0.22</td>\n",
       "      <td>0.63</td>\n",
       "      <td>1.35</td>\n",
       "      <td>3.24</td>\n",
       "      <td>100</td>\n",
       "    </tr>\n",
       "    <tr>\n",
       "      <th>18</th>\n",
       "      <td>1870</td>\n",
       "      <td>前海开源货币A</td>\n",
       "      <td>0.545200</td>\n",
       "      <td>1900-01-17</td>\n",
       "      <td>2.247000</td>\n",
       "      <td>2.230000</td>\n",
       "      <td>2.540000</td>\n",
       "      <td>2.620000</td>\n",
       "      <td>0.22</td>\n",
       "      <td>0.63</td>\n",
       "      <td>1.35</td>\n",
       "      <td>3.24</td>\n",
       "      <td>100</td>\n",
       "    </tr>\n",
       "    <tr>\n",
       "      <th>19</th>\n",
       "      <td>70028</td>\n",
       "      <td>嘉实安心货币市场A</td>\n",
       "      <td>0.516200</td>\n",
       "      <td>1900-01-17</td>\n",
       "      <td>1.955000</td>\n",
       "      <td>2.050000</td>\n",
       "      <td>2.670000</td>\n",
       "      <td>2.610000</td>\n",
       "      <td>0.22</td>\n",
       "      <td>0.55</td>\n",
       "      <td>1.24</td>\n",
       "      <td>2.91</td>\n",
       "      <td>100</td>\n",
       "    </tr>\n",
       "    <tr>\n",
       "      <th>20</th>\n",
       "      <td>166014</td>\n",
       "      <td>中欧货币A</td>\n",
       "      <td>0.615500</td>\n",
       "      <td>1900-01-17</td>\n",
       "      <td>2.202000</td>\n",
       "      <td>2.380000</td>\n",
       "      <td>2.690000</td>\n",
       "      <td>2.590000</td>\n",
       "      <td>0.22</td>\n",
       "      <td>0.61</td>\n",
       "      <td>1.30</td>\n",
       "      <td>3.18</td>\n",
       "      <td>100</td>\n",
       "    </tr>\n",
       "    <tr>\n",
       "      <th>21</th>\n",
       "      <td>630012</td>\n",
       "      <td>华商现金增利货币A</td>\n",
       "      <td>0.504100</td>\n",
       "      <td>1900-01-17</td>\n",
       "      <td>1.915000</td>\n",
       "      <td>2.120000</td>\n",
       "      <td>2.640000</td>\n",
       "      <td>2.620000</td>\n",
       "      <td>0.22</td>\n",
       "      <td>0.53</td>\n",
       "      <td>1.10</td>\n",
       "      <td>2.78</td>\n",
       "      <td>100</td>\n",
       "    </tr>\n",
       "    <tr>\n",
       "      <th>22</th>\n",
       "      <td>519566</td>\n",
       "      <td>浦银安盛日日盈货币A</td>\n",
       "      <td>0.571700</td>\n",
       "      <td>1900-01-17</td>\n",
       "      <td>2.129000</td>\n",
       "      <td>2.320000</td>\n",
       "      <td>2.660000</td>\n",
       "      <td>2.630000</td>\n",
       "      <td>0.22</td>\n",
       "      <td>0.61</td>\n",
       "      <td>1.27</td>\n",
       "      <td>3.03</td>\n",
       "      <td>100</td>\n",
       "    </tr>\n",
       "    <tr>\n",
       "      <th>23</th>\n",
       "      <td>350004</td>\n",
       "      <td>天治天得利货币</td>\n",
       "      <td>0.624500</td>\n",
       "      <td>1900-01-17</td>\n",
       "      <td>2.292000</td>\n",
       "      <td>2.490000</td>\n",
       "      <td>2.730000</td>\n",
       "      <td>2.750000</td>\n",
       "      <td>0.22</td>\n",
       "      <td>0.64</td>\n",
       "      <td>1.37</td>\n",
       "      <td>3.39</td>\n",
       "      <td>1000</td>\n",
       "    </tr>\n",
       "    <tr>\n",
       "      <th>24</th>\n",
       "      <td>1926</td>\n",
       "      <td>兴业鑫天盈货币B</td>\n",
       "      <td>0.664100</td>\n",
       "      <td>1900-01-17</td>\n",
       "      <td>2.463000</td>\n",
       "      <td>2.570000</td>\n",
       "      <td>2.720000</td>\n",
       "      <td>2.710000</td>\n",
       "      <td>0.23</td>\n",
       "      <td>0.65</td>\n",
       "      <td>1.34</td>\n",
       "      <td>3.26</td>\n",
       "      <td>5000000</td>\n",
       "    </tr>\n",
       "    <tr>\n",
       "      <th>25</th>\n",
       "      <td>3422</td>\n",
       "      <td>国寿安保添利货币A</td>\n",
       "      <td>0.670800</td>\n",
       "      <td>1900-01-17</td>\n",
       "      <td>2.401000</td>\n",
       "      <td>2.460000</td>\n",
       "      <td>2.700000</td>\n",
       "      <td>2.670000</td>\n",
       "      <td>0.23</td>\n",
       "      <td>0.64</td>\n",
       "      <td>1.37</td>\n",
       "      <td>3.39</td>\n",
       "      <td>100</td>\n",
       "    </tr>\n",
       "    <tr>\n",
       "      <th>26</th>\n",
       "      <td>3589</td>\n",
       "      <td>东吴增鑫宝货币B</td>\n",
       "      <td>0.623500</td>\n",
       "      <td>1900-01-17</td>\n",
       "      <td>2.236000</td>\n",
       "      <td>2.150000</td>\n",
       "      <td>2.670000</td>\n",
       "      <td>2.690000</td>\n",
       "      <td>0.23</td>\n",
       "      <td>0.66</td>\n",
       "      <td>1.41</td>\n",
       "      <td>3.38</td>\n",
       "      <td>5000000</td>\n",
       "    </tr>\n",
       "    <tr>\n",
       "      <th>27</th>\n",
       "      <td>560001</td>\n",
       "      <td>益民货币</td>\n",
       "      <td>0.554700</td>\n",
       "      <td>1900-01-17</td>\n",
       "      <td>1.968000</td>\n",
       "      <td>1.980000</td>\n",
       "      <td>2.580000</td>\n",
       "      <td>2.470000</td>\n",
       "      <td>0.23</td>\n",
       "      <td>0.54</td>\n",
       "      <td>0.94</td>\n",
       "      <td>2.22</td>\n",
       "      <td>100</td>\n",
       "    </tr>\n",
       "    <tr>\n",
       "      <th>28</th>\n",
       "      <td>4173</td>\n",
       "      <td>嘉实增益宝货币</td>\n",
       "      <td>0.714900</td>\n",
       "      <td>1900-01-17</td>\n",
       "      <td>2.708000</td>\n",
       "      <td>2.830000</td>\n",
       "      <td>2.720000</td>\n",
       "      <td>2.690000</td>\n",
       "      <td>0.23</td>\n",
       "      <td>0.66</td>\n",
       "      <td>1.36</td>\n",
       "      <td>3.26</td>\n",
       "      <td>100</td>\n",
       "    </tr>\n",
       "    <tr>\n",
       "      <th>29</th>\n",
       "      <td>320002</td>\n",
       "      <td>诺安货币A</td>\n",
       "      <td>0.656600</td>\n",
       "      <td>1900-01-17</td>\n",
       "      <td>2.310000</td>\n",
       "      <td>2.360000</td>\n",
       "      <td>2.730000</td>\n",
       "      <td>2.600000</td>\n",
       "      <td>0.23</td>\n",
       "      <td>0.61</td>\n",
       "      <td>1.28</td>\n",
       "      <td>3.11</td>\n",
       "      <td>100</td>\n",
       "    </tr>\n",
       "    <tr>\n",
       "      <th>...</th>\n",
       "      <td>...</td>\n",
       "      <td>...</td>\n",
       "      <td>...</td>\n",
       "      <td>...</td>\n",
       "      <td>...</td>\n",
       "      <td>...</td>\n",
       "      <td>...</td>\n",
       "      <td>...</td>\n",
       "      <td>...</td>\n",
       "      <td>...</td>\n",
       "      <td>...</td>\n",
       "      <td>...</td>\n",
       "      <td>...</td>\n",
       "    </tr>\n",
       "    <tr>\n",
       "      <th>70</th>\n",
       "      <td>902</td>\n",
       "      <td>国开货币B</td>\n",
       "      <td>0.661900</td>\n",
       "      <td>1900-01-17</td>\n",
       "      <td>2.451000</td>\n",
       "      <td>2.790000</td>\n",
       "      <td>2.860000</td>\n",
       "      <td>2.770000</td>\n",
       "      <td>0.24</td>\n",
       "      <td>0.70</td>\n",
       "      <td>1.55</td>\n",
       "      <td>3.65</td>\n",
       "      <td>5000000</td>\n",
       "    </tr>\n",
       "    <tr>\n",
       "      <th>71</th>\n",
       "      <td>4849</td>\n",
       "      <td>信诚货币E</td>\n",
       "      <td>0.519300</td>\n",
       "      <td>1900-01-17</td>\n",
       "      <td>1.831000</td>\n",
       "      <td>2.490000</td>\n",
       "      <td>2.920000</td>\n",
       "      <td>2.800000</td>\n",
       "      <td>0.24</td>\n",
       "      <td>0.63</td>\n",
       "      <td>1.33</td>\n",
       "      <td>3.23</td>\n",
       "      <td>100</td>\n",
       "    </tr>\n",
       "    <tr>\n",
       "      <th>72</th>\n",
       "      <td>785</td>\n",
       "      <td>华融现金增利货币A</td>\n",
       "      <td>0.713800</td>\n",
       "      <td>1900-01-17</td>\n",
       "      <td>2.646000</td>\n",
       "      <td>2.720000</td>\n",
       "      <td>2.870000</td>\n",
       "      <td>2.960000</td>\n",
       "      <td>0.24</td>\n",
       "      <td>0.65</td>\n",
       "      <td>1.33</td>\n",
       "      <td>3.34</td>\n",
       "      <td>100</td>\n",
       "    </tr>\n",
       "    <tr>\n",
       "      <th>73</th>\n",
       "      <td>270004</td>\n",
       "      <td>广发货币A</td>\n",
       "      <td>0.715600</td>\n",
       "      <td>1900-01-17</td>\n",
       "      <td>2.593000</td>\n",
       "      <td>2.670000</td>\n",
       "      <td>2.810000</td>\n",
       "      <td>2.820000</td>\n",
       "      <td>0.24</td>\n",
       "      <td>0.69</td>\n",
       "      <td>1.48</td>\n",
       "      <td>3.52</td>\n",
       "      <td>100</td>\n",
       "    </tr>\n",
       "    <tr>\n",
       "      <th>74</th>\n",
       "      <td>434</td>\n",
       "      <td>新华壹诺宝货币A</td>\n",
       "      <td>0.680800</td>\n",
       "      <td>1900-01-17</td>\n",
       "      <td>3.673000</td>\n",
       "      <td>3.150000</td>\n",
       "      <td>2.910000</td>\n",
       "      <td>2.810000</td>\n",
       "      <td>0.24</td>\n",
       "      <td>0.69</td>\n",
       "      <td>1.43</td>\n",
       "      <td>3.35</td>\n",
       "      <td>100</td>\n",
       "    </tr>\n",
       "    <tr>\n",
       "      <th>75</th>\n",
       "      <td>550010</td>\n",
       "      <td>信诚货币A</td>\n",
       "      <td>0.518100</td>\n",
       "      <td>1900-01-17</td>\n",
       "      <td>1.861000</td>\n",
       "      <td>2.510000</td>\n",
       "      <td>2.920000</td>\n",
       "      <td>2.800000</td>\n",
       "      <td>0.24</td>\n",
       "      <td>0.63</td>\n",
       "      <td>1.33</td>\n",
       "      <td>3.25</td>\n",
       "      <td>100</td>\n",
       "    </tr>\n",
       "    <tr>\n",
       "      <th>76</th>\n",
       "      <td>380</td>\n",
       "      <td>景顺长城景益货币A</td>\n",
       "      <td>0.765800</td>\n",
       "      <td>1900-01-17</td>\n",
       "      <td>2.827000</td>\n",
       "      <td>2.850000</td>\n",
       "      <td>2.870000</td>\n",
       "      <td>2.860000</td>\n",
       "      <td>0.24</td>\n",
       "      <td>0.69</td>\n",
       "      <td>1.47</td>\n",
       "      <td>3.28</td>\n",
       "      <td>100</td>\n",
       "    </tr>\n",
       "    <tr>\n",
       "      <th>77</th>\n",
       "      <td>3585</td>\n",
       "      <td>先锋现金宝货币</td>\n",
       "      <td>0.726400</td>\n",
       "      <td>1900-01-17</td>\n",
       "      <td>2.703000</td>\n",
       "      <td>2.820000</td>\n",
       "      <td>2.940000</td>\n",
       "      <td>2.870000</td>\n",
       "      <td>0.24</td>\n",
       "      <td>0.65</td>\n",
       "      <td>1.31</td>\n",
       "      <td>3.22</td>\n",
       "      <td>100</td>\n",
       "    </tr>\n",
       "    <tr>\n",
       "      <th>78</th>\n",
       "      <td>90022</td>\n",
       "      <td>大成现金增利货币A</td>\n",
       "      <td>0.799400</td>\n",
       "      <td>1900-01-17</td>\n",
       "      <td>2.830000</td>\n",
       "      <td>2.790000</td>\n",
       "      <td>2.880000</td>\n",
       "      <td>2.860000</td>\n",
       "      <td>0.24</td>\n",
       "      <td>0.67</td>\n",
       "      <td>1.41</td>\n",
       "      <td>3.47</td>\n",
       "      <td>100</td>\n",
       "    </tr>\n",
       "    <tr>\n",
       "      <th>79</th>\n",
       "      <td>2260</td>\n",
       "      <td>中信建投添鑫宝</td>\n",
       "      <td>0.667600</td>\n",
       "      <td>1900-01-17</td>\n",
       "      <td>2.531000</td>\n",
       "      <td>2.620000</td>\n",
       "      <td>2.840000</td>\n",
       "      <td>2.870000</td>\n",
       "      <td>0.24</td>\n",
       "      <td>0.69</td>\n",
       "      <td>1.51</td>\n",
       "      <td>3.33</td>\n",
       "      <td>100</td>\n",
       "    </tr>\n",
       "    <tr>\n",
       "      <th>80</th>\n",
       "      <td>3478</td>\n",
       "      <td>民生加银腾元宝货币A</td>\n",
       "      <td>0.613000</td>\n",
       "      <td>1900-01-17</td>\n",
       "      <td>2.282000</td>\n",
       "      <td>2.270000</td>\n",
       "      <td>2.860000</td>\n",
       "      <td>2.910000</td>\n",
       "      <td>0.24</td>\n",
       "      <td>0.65</td>\n",
       "      <td>1.35</td>\n",
       "      <td>3.22</td>\n",
       "      <td>100</td>\n",
       "    </tr>\n",
       "    <tr>\n",
       "      <th>81</th>\n",
       "      <td>3467</td>\n",
       "      <td>富荣货币A</td>\n",
       "      <td>0.449700</td>\n",
       "      <td>1900-01-17</td>\n",
       "      <td>1.822000</td>\n",
       "      <td>2.010000</td>\n",
       "      <td>2.910000</td>\n",
       "      <td>2.850000</td>\n",
       "      <td>0.24</td>\n",
       "      <td>0.68</td>\n",
       "      <td>1.43</td>\n",
       "      <td>3.41</td>\n",
       "      <td>100</td>\n",
       "    </tr>\n",
       "    <tr>\n",
       "      <th>82</th>\n",
       "      <td>2894</td>\n",
       "      <td>华夏天利货币A</td>\n",
       "      <td>0.728900</td>\n",
       "      <td>1900-01-17</td>\n",
       "      <td>2.832000</td>\n",
       "      <td>2.920000</td>\n",
       "      <td>2.920000</td>\n",
       "      <td>2.900000</td>\n",
       "      <td>0.24</td>\n",
       "      <td>0.71</td>\n",
       "      <td>1.55</td>\n",
       "      <td>3.67</td>\n",
       "      <td>100</td>\n",
       "    </tr>\n",
       "    <tr>\n",
       "      <th>83</th>\n",
       "      <td>202301</td>\n",
       "      <td>南方现金增利货币A</td>\n",
       "      <td>0.722400</td>\n",
       "      <td>1900-01-17</td>\n",
       "      <td>2.732000</td>\n",
       "      <td>2.780000</td>\n",
       "      <td>2.850000</td>\n",
       "      <td>2.850000</td>\n",
       "      <td>0.24</td>\n",
       "      <td>0.70</td>\n",
       "      <td>1.51</td>\n",
       "      <td>3.57</td>\n",
       "      <td>100</td>\n",
       "    </tr>\n",
       "    <tr>\n",
       "      <th>84</th>\n",
       "      <td>4970</td>\n",
       "      <td>南方天天宝货币A</td>\n",
       "      <td>0.690400</td>\n",
       "      <td>1900-01-17</td>\n",
       "      <td>2.499000</td>\n",
       "      <td>2.700000</td>\n",
       "      <td>2.920000</td>\n",
       "      <td>2.880000</td>\n",
       "      <td>0.24</td>\n",
       "      <td>0.70</td>\n",
       "      <td>1.61</td>\n",
       "      <td>3.53</td>\n",
       "      <td>100</td>\n",
       "    </tr>\n",
       "    <tr>\n",
       "      <th>85</th>\n",
       "      <td>1624</td>\n",
       "      <td>兴业添天盈货币A</td>\n",
       "      <td>0.541900</td>\n",
       "      <td>1900-01-17</td>\n",
       "      <td>2.364000</td>\n",
       "      <td>2.650000</td>\n",
       "      <td>3.010000</td>\n",
       "      <td>2.820000</td>\n",
       "      <td>0.24</td>\n",
       "      <td>0.68</td>\n",
       "      <td>1.42</td>\n",
       "      <td>3.38</td>\n",
       "      <td>100</td>\n",
       "    </tr>\n",
       "    <tr>\n",
       "      <th>86</th>\n",
       "      <td>1871</td>\n",
       "      <td>前海开源货币B</td>\n",
       "      <td>0.611000</td>\n",
       "      <td>1900-01-17</td>\n",
       "      <td>2.491000</td>\n",
       "      <td>2.480000</td>\n",
       "      <td>2.780000</td>\n",
       "      <td>2.870000</td>\n",
       "      <td>0.24</td>\n",
       "      <td>0.69</td>\n",
       "      <td>1.48</td>\n",
       "      <td>3.49</td>\n",
       "      <td>5000000</td>\n",
       "    </tr>\n",
       "    <tr>\n",
       "      <th>87</th>\n",
       "      <td>324</td>\n",
       "      <td>华润元大现金收益货币A</td>\n",
       "      <td>0.659200</td>\n",
       "      <td>1900-01-17</td>\n",
       "      <td>2.442000</td>\n",
       "      <td>2.450000</td>\n",
       "      <td>2.910000</td>\n",
       "      <td>2.740000</td>\n",
       "      <td>0.24</td>\n",
       "      <td>0.57</td>\n",
       "      <td>1.20</td>\n",
       "      <td>3.21</td>\n",
       "      <td>100</td>\n",
       "    </tr>\n",
       "    <tr>\n",
       "      <th>88</th>\n",
       "      <td>3515</td>\n",
       "      <td>国泰利是宝货币</td>\n",
       "      <td>0.781900</td>\n",
       "      <td>1900-01-17</td>\n",
       "      <td>2.866000</td>\n",
       "      <td>2.850000</td>\n",
       "      <td>2.890000</td>\n",
       "      <td>2.890000</td>\n",
       "      <td>0.24</td>\n",
       "      <td>0.71</td>\n",
       "      <td>1.53</td>\n",
       "      <td>3.65</td>\n",
       "      <td>100</td>\n",
       "    </tr>\n",
       "    <tr>\n",
       "      <th>89</th>\n",
       "      <td>519505</td>\n",
       "      <td>海富通货币A</td>\n",
       "      <td>0.741800</td>\n",
       "      <td>1900-01-17</td>\n",
       "      <td>2.595000</td>\n",
       "      <td>2.660000</td>\n",
       "      <td>2.830000</td>\n",
       "      <td>2.840000</td>\n",
       "      <td>0.24</td>\n",
       "      <td>0.68</td>\n",
       "      <td>1.42</td>\n",
       "      <td>3.37</td>\n",
       "      <td>100</td>\n",
       "    </tr>\n",
       "    <tr>\n",
       "      <th>90</th>\n",
       "      <td>2077</td>\n",
       "      <td>浙商日添利A</td>\n",
       "      <td>1.007000</td>\n",
       "      <td>1900-01-17</td>\n",
       "      <td>2.407000</td>\n",
       "      <td>2.610000</td>\n",
       "      <td>2.960000</td>\n",
       "      <td>3.260000</td>\n",
       "      <td>0.24</td>\n",
       "      <td>0.66</td>\n",
       "      <td>1.34</td>\n",
       "      <td>3.22</td>\n",
       "      <td>100</td>\n",
       "    </tr>\n",
       "    <tr>\n",
       "      <th>91</th>\n",
       "      <td>726</td>\n",
       "      <td>大成添利宝货币E</td>\n",
       "      <td>0.785500</td>\n",
       "      <td>1900-01-17</td>\n",
       "      <td>2.929000</td>\n",
       "      <td>2.910000</td>\n",
       "      <td>2.900000</td>\n",
       "      <td>2.900000</td>\n",
       "      <td>0.24</td>\n",
       "      <td>0.70</td>\n",
       "      <td>1.53</td>\n",
       "      <td>3.59</td>\n",
       "      <td>100</td>\n",
       "    </tr>\n",
       "    <tr>\n",
       "      <th>92</th>\n",
       "      <td>166015</td>\n",
       "      <td>中欧货币B</td>\n",
       "      <td>0.684900</td>\n",
       "      <td>1900-01-17</td>\n",
       "      <td>2.451000</td>\n",
       "      <td>2.620000</td>\n",
       "      <td>2.940000</td>\n",
       "      <td>2.840000</td>\n",
       "      <td>0.24</td>\n",
       "      <td>0.67</td>\n",
       "      <td>1.42</td>\n",
       "      <td>3.43</td>\n",
       "      <td>5000000</td>\n",
       "    </tr>\n",
       "    <tr>\n",
       "      <th>93</th>\n",
       "      <td>2748</td>\n",
       "      <td>中欧货币D</td>\n",
       "      <td>0.684700</td>\n",
       "      <td>1900-01-17</td>\n",
       "      <td>2.451000</td>\n",
       "      <td>2.620000</td>\n",
       "      <td>2.940000</td>\n",
       "      <td>2.840000</td>\n",
       "      <td>0.24</td>\n",
       "      <td>0.67</td>\n",
       "      <td>1.42</td>\n",
       "      <td>3.43</td>\n",
       "      <td>5000000</td>\n",
       "    </tr>\n",
       "    <tr>\n",
       "      <th>94</th>\n",
       "      <td>2883</td>\n",
       "      <td>华润元大现金通货币A</td>\n",
       "      <td>0.693700</td>\n",
       "      <td>1900-01-17</td>\n",
       "      <td>2.817000</td>\n",
       "      <td>2.950000</td>\n",
       "      <td>2.940000</td>\n",
       "      <td>2.880000</td>\n",
       "      <td>0.24</td>\n",
       "      <td>0.74</td>\n",
       "      <td>1.61</td>\n",
       "      <td>3.87</td>\n",
       "      <td>100</td>\n",
       "    </tr>\n",
       "    <tr>\n",
       "      <th>95</th>\n",
       "      <td>3228</td>\n",
       "      <td>浦银安盛日日鑫货币A</td>\n",
       "      <td>0.672300</td>\n",
       "      <td>1900-01-17</td>\n",
       "      <td>2.527000</td>\n",
       "      <td>2.580000</td>\n",
       "      <td>2.920000</td>\n",
       "      <td>2.890000</td>\n",
       "      <td>0.24</td>\n",
       "      <td>0.68</td>\n",
       "      <td>1.40</td>\n",
       "      <td>3.37</td>\n",
       "      <td>100</td>\n",
       "    </tr>\n",
       "    <tr>\n",
       "      <th>96</th>\n",
       "      <td>4185</td>\n",
       "      <td>江信增利货币A</td>\n",
       "      <td>0.792300</td>\n",
       "      <td>1900-01-17</td>\n",
       "      <td>2.445000</td>\n",
       "      <td>2.460000</td>\n",
       "      <td>2.950000</td>\n",
       "      <td>2.870000</td>\n",
       "      <td>0.24</td>\n",
       "      <td>0.68</td>\n",
       "      <td>1.49</td>\n",
       "      <td>3.45</td>\n",
       "      <td>100</td>\n",
       "    </tr>\n",
       "    <tr>\n",
       "      <th>97</th>\n",
       "      <td>213009</td>\n",
       "      <td>宝盈货币A</td>\n",
       "      <td>0.669000</td>\n",
       "      <td>1900-01-17</td>\n",
       "      <td>2.796000</td>\n",
       "      <td>2.860000</td>\n",
       "      <td>2.980000</td>\n",
       "      <td>2.890000</td>\n",
       "      <td>0.24</td>\n",
       "      <td>0.67</td>\n",
       "      <td>1.40</td>\n",
       "      <td>3.36</td>\n",
       "      <td>100</td>\n",
       "    </tr>\n",
       "    <tr>\n",
       "      <th>98</th>\n",
       "      <td>1391</td>\n",
       "      <td>天弘弘运宝货币B</td>\n",
       "      <td>0.705300</td>\n",
       "      <td>1900-01-17</td>\n",
       "      <td>2.929000</td>\n",
       "      <td>2.890000</td>\n",
       "      <td>2.910000</td>\n",
       "      <td>2.890000</td>\n",
       "      <td>0.24</td>\n",
       "      <td>0.75</td>\n",
       "      <td>1.60</td>\n",
       "      <td>3.79</td>\n",
       "      <td>5000000</td>\n",
       "    </tr>\n",
       "    <tr>\n",
       "      <th>99</th>\n",
       "      <td>630112</td>\n",
       "      <td>华商现金增利货币B</td>\n",
       "      <td>0.569900</td>\n",
       "      <td>1900-01-17</td>\n",
       "      <td>2.157000</td>\n",
       "      <td>2.360000</td>\n",
       "      <td>2.880000</td>\n",
       "      <td>2.860000</td>\n",
       "      <td>0.24</td>\n",
       "      <td>0.59</td>\n",
       "      <td>1.23</td>\n",
       "      <td>3.03</td>\n",
       "      <td>5000000</td>\n",
       "    </tr>\n",
       "  </tbody>\n",
       "</table>\n",
       "<p>100 rows × 13 columns</p>\n",
       "</div>"
      ],
      "text/plain": [
       "    p_code       p_name   earning start_date   earn_7d  earn_14d  earn_28d  \\\n",
       "0      439       国金鑫盈货币  0.041500 1900-01-17  0.180000  0.210000  0.650000   \n",
       "1    20031    国泰现金管理货币A  0.293600 1900-01-17  0.990000  0.860000  1.280000   \n",
       "2    20032    国泰现金管理货币B  0.359400 1900-01-17  1.229000  1.100000  1.520000   \n",
       "3    20007         国泰货币  0.517800 1900-01-17  1.871000  2.000000  2.020000   \n",
       "4      738      中信建投货币A  0.499700 1900-01-17  1.872000  2.180000  2.400000   \n",
       "5     3588     东吴增鑫宝货币A  0.557800 1900-01-17  1.986000  1.910000  2.420000   \n",
       "6     1925     兴业鑫天盈货币A  0.598300 1900-01-17  2.217000  2.320000  2.480000   \n",
       "7     4589   民生加银腾元宝货币B  0.693058 1900-01-17  2.212538  2.283846  2.505385   \n",
       "8      981    北信瑞丰现金添利A  1.285000 1900-01-17  2.560000  2.490000  2.500000   \n",
       "9     4985       博时合晶货币  0.677300 1900-01-17  2.419000  2.560000  2.500000   \n",
       "10  583001        东吴货币A  0.631600 1900-01-17  2.376000  2.520000  2.520000   \n",
       "11     683     信达澳银慧管家E  0.572200 1900-01-17  2.162000  2.220000  2.610000   \n",
       "12  360003         光大货币  0.619000 1900-01-17  2.259000  2.440000  2.680000   \n",
       "13  519588        交银货币A  0.635600 1900-01-17  2.230000  2.360000  2.600000   \n",
       "14     901        国开货币A  0.595900 1900-01-17  2.206000  2.550000  2.620000   \n",
       "15    1101      银华惠添益货币  0.654300 1900-01-17  2.404000  2.420000  2.630000   \n",
       "16    2747        中欧货币C  0.619100 1900-01-17  2.205000  2.370000  2.660000   \n",
       "17    4210      前海开源货币E  0.551400 1900-01-17  2.248000  2.230000  2.540000   \n",
       "18    1870      前海开源货币A  0.545200 1900-01-17  2.247000  2.230000  2.540000   \n",
       "19   70028    嘉实安心货币市场A  0.516200 1900-01-17  1.955000  2.050000  2.670000   \n",
       "20  166014        中欧货币A  0.615500 1900-01-17  2.202000  2.380000  2.690000   \n",
       "21  630012    华商现金增利货币A  0.504100 1900-01-17  1.915000  2.120000  2.640000   \n",
       "22  519566   浦银安盛日日盈货币A  0.571700 1900-01-17  2.129000  2.320000  2.660000   \n",
       "23  350004      天治天得利货币  0.624500 1900-01-17  2.292000  2.490000  2.730000   \n",
       "24    1926     兴业鑫天盈货币B  0.664100 1900-01-17  2.463000  2.570000  2.720000   \n",
       "25    3422    国寿安保添利货币A  0.670800 1900-01-17  2.401000  2.460000  2.700000   \n",
       "26    3589     东吴增鑫宝货币B  0.623500 1900-01-17  2.236000  2.150000  2.670000   \n",
       "27  560001         益民货币  0.554700 1900-01-17  1.968000  1.980000  2.580000   \n",
       "28    4173      嘉实增益宝货币  0.714900 1900-01-17  2.708000  2.830000  2.720000   \n",
       "29  320002        诺安货币A  0.656600 1900-01-17  2.310000  2.360000  2.730000   \n",
       "..     ...          ...       ...        ...       ...       ...       ...   \n",
       "70     902        国开货币B  0.661900 1900-01-17  2.451000  2.790000  2.860000   \n",
       "71    4849        信诚货币E  0.519300 1900-01-17  1.831000  2.490000  2.920000   \n",
       "72     785    华融现金增利货币A  0.713800 1900-01-17  2.646000  2.720000  2.870000   \n",
       "73  270004        广发货币A  0.715600 1900-01-17  2.593000  2.670000  2.810000   \n",
       "74     434     新华壹诺宝货币A  0.680800 1900-01-17  3.673000  3.150000  2.910000   \n",
       "75  550010        信诚货币A  0.518100 1900-01-17  1.861000  2.510000  2.920000   \n",
       "76     380    景顺长城景益货币A  0.765800 1900-01-17  2.827000  2.850000  2.870000   \n",
       "77    3585      先锋现金宝货币  0.726400 1900-01-17  2.703000  2.820000  2.940000   \n",
       "78   90022    大成现金增利货币A  0.799400 1900-01-17  2.830000  2.790000  2.880000   \n",
       "79    2260      中信建投添鑫宝  0.667600 1900-01-17  2.531000  2.620000  2.840000   \n",
       "80    3478   民生加银腾元宝货币A  0.613000 1900-01-17  2.282000  2.270000  2.860000   \n",
       "81    3467        富荣货币A  0.449700 1900-01-17  1.822000  2.010000  2.910000   \n",
       "82    2894      华夏天利货币A  0.728900 1900-01-17  2.832000  2.920000  2.920000   \n",
       "83  202301    南方现金增利货币A  0.722400 1900-01-17  2.732000  2.780000  2.850000   \n",
       "84    4970     南方天天宝货币A  0.690400 1900-01-17  2.499000  2.700000  2.920000   \n",
       "85    1624     兴业添天盈货币A  0.541900 1900-01-17  2.364000  2.650000  3.010000   \n",
       "86    1871      前海开源货币B  0.611000 1900-01-17  2.491000  2.480000  2.780000   \n",
       "87     324  华润元大现金收益货币A  0.659200 1900-01-17  2.442000  2.450000  2.910000   \n",
       "88    3515      国泰利是宝货币  0.781900 1900-01-17  2.866000  2.850000  2.890000   \n",
       "89  519505       海富通货币A  0.741800 1900-01-17  2.595000  2.660000  2.830000   \n",
       "90    2077       浙商日添利A  1.007000 1900-01-17  2.407000  2.610000  2.960000   \n",
       "91     726     大成添利宝货币E  0.785500 1900-01-17  2.929000  2.910000  2.900000   \n",
       "92  166015        中欧货币B  0.684900 1900-01-17  2.451000  2.620000  2.940000   \n",
       "93    2748        中欧货币D  0.684700 1900-01-17  2.451000  2.620000  2.940000   \n",
       "94    2883   华润元大现金通货币A  0.693700 1900-01-17  2.817000  2.950000  2.940000   \n",
       "95    3228   浦银安盛日日鑫货币A  0.672300 1900-01-17  2.527000  2.580000  2.920000   \n",
       "96    4185      江信增利货币A  0.792300 1900-01-17  2.445000  2.460000  2.950000   \n",
       "97  213009        宝盈货币A  0.669000 1900-01-17  2.796000  2.860000  2.980000   \n",
       "98    1391     天弘弘运宝货币B  0.705300 1900-01-17  2.929000  2.890000  2.910000   \n",
       "99  630112    华商现金增利货币B  0.569900 1900-01-17  2.157000  2.360000  2.880000   \n",
       "\n",
       "    earn_35d  path_1m  path_3m  path_6m  path_1y  start_money  \n",
       "0   0.850000     0.06     0.39     0.65     1.80          100  \n",
       "1   1.300000     0.11     0.32     0.63     1.85          100  \n",
       "2   1.530000     0.13     0.38     0.76     2.10      5000000  \n",
       "3   1.920000     0.17     0.53     1.16     2.98          100  \n",
       "4   2.350000     0.20     0.60     1.33     2.86          100  \n",
       "5   2.430000     0.21     0.59     1.28     3.13          100  \n",
       "6   2.460000     0.21     0.59     1.22     3.01          100  \n",
       "7   2.477692     0.21     0.69     1.62     3.70      5000000  \n",
       "8   2.470000     0.21     0.73     1.38     3.26          100  \n",
       "9   2.590000     0.21     0.59     1.30     3.30          100  \n",
       "10  2.450000     0.21     0.67     1.29     3.05          100  \n",
       "11  2.520000     0.22     0.56     1.11     2.74          100  \n",
       "12  2.650000     0.22     0.60     1.26     3.12          100  \n",
       "13  2.530000     0.22     0.55     1.17     2.93          100  \n",
       "14  2.530000     0.22     0.64     1.43     3.40          100  \n",
       "15  2.620000     0.22     0.65     1.65     3.36          100  \n",
       "16  2.570000     0.22     0.61     1.30     3.17          100  \n",
       "17  2.620000     0.22     0.63     1.35     3.24          100  \n",
       "18  2.620000     0.22     0.63     1.35     3.24          100  \n",
       "19  2.610000     0.22     0.55     1.24     2.91          100  \n",
       "20  2.590000     0.22     0.61     1.30     3.18          100  \n",
       "21  2.620000     0.22     0.53     1.10     2.78          100  \n",
       "22  2.630000     0.22     0.61     1.27     3.03          100  \n",
       "23  2.750000     0.22     0.64     1.37     3.39         1000  \n",
       "24  2.710000     0.23     0.65     1.34     3.26      5000000  \n",
       "25  2.670000     0.23     0.64     1.37     3.39          100  \n",
       "26  2.690000     0.23     0.66     1.41     3.38      5000000  \n",
       "27  2.470000     0.23     0.54     0.94     2.22          100  \n",
       "28  2.690000     0.23     0.66     1.36     3.26          100  \n",
       "29  2.600000     0.23     0.61     1.28     3.11          100  \n",
       "..       ...      ...      ...      ...      ...          ...  \n",
       "70  2.770000     0.24     0.70     1.55     3.65      5000000  \n",
       "71  2.800000     0.24     0.63     1.33     3.23          100  \n",
       "72  2.960000     0.24     0.65     1.33     3.34          100  \n",
       "73  2.820000     0.24     0.69     1.48     3.52          100  \n",
       "74  2.810000     0.24     0.69     1.43     3.35          100  \n",
       "75  2.800000     0.24     0.63     1.33     3.25          100  \n",
       "76  2.860000     0.24     0.69     1.47     3.28          100  \n",
       "77  2.870000     0.24     0.65     1.31     3.22          100  \n",
       "78  2.860000     0.24     0.67     1.41     3.47          100  \n",
       "79  2.870000     0.24     0.69     1.51     3.33          100  \n",
       "80  2.910000     0.24     0.65     1.35     3.22          100  \n",
       "81  2.850000     0.24     0.68     1.43     3.41          100  \n",
       "82  2.900000     0.24     0.71     1.55     3.67          100  \n",
       "83  2.850000     0.24     0.70     1.51     3.57          100  \n",
       "84  2.880000     0.24     0.70     1.61     3.53          100  \n",
       "85  2.820000     0.24     0.68     1.42     3.38          100  \n",
       "86  2.870000     0.24     0.69     1.48     3.49      5000000  \n",
       "87  2.740000     0.24     0.57     1.20     3.21          100  \n",
       "88  2.890000     0.24     0.71     1.53     3.65          100  \n",
       "89  2.840000     0.24     0.68     1.42     3.37          100  \n",
       "90  3.260000     0.24     0.66     1.34     3.22          100  \n",
       "91  2.900000     0.24     0.70     1.53     3.59          100  \n",
       "92  2.840000     0.24     0.67     1.42     3.43      5000000  \n",
       "93  2.840000     0.24     0.67     1.42     3.43      5000000  \n",
       "94  2.880000     0.24     0.74     1.61     3.87          100  \n",
       "95  2.890000     0.24     0.68     1.40     3.37          100  \n",
       "96  2.870000     0.24     0.68     1.49     3.45          100  \n",
       "97  2.890000     0.24     0.67     1.40     3.36          100  \n",
       "98  2.890000     0.24     0.75     1.60     3.79      5000000  \n",
       "99  2.860000     0.24     0.59     1.23     3.03      5000000  \n",
       "\n",
       "[100 rows x 13 columns]"
      ]
     },
     "execution_count": 64,
     "metadata": {},
     "output_type": "execute_result"
    }
   ],
   "source": [
    "df"
   ]
  },
  {
   "cell_type": "code",
   "execution_count": 466,
   "metadata": {
    "scrolled": true
   },
   "outputs": [],
   "source": [
    "array_earning = np.array(df['earn_7d'])"
   ]
  },
  {
   "cell_type": "code",
   "execution_count": 288,
   "metadata": {
    "collapsed": true
   },
   "outputs": [
    {
     "data": {
      "text/plain": [
       "array([0.0415    , 0.2936    , 0.3594    , 0.5178    , 0.4997    ,\n",
       "       0.5578    , 0.5983    , 0.69305833, 1.285     , 0.6773    ,\n",
       "       0.6316    , 0.5722    , 0.619     , 0.6356    , 0.5959    ,\n",
       "       0.6543    , 0.6191    , 0.5514    , 0.5452    , 0.5162    ,\n",
       "       0.6155    , 0.5041    , 0.5717    , 0.6245    , 0.6641    ,\n",
       "       0.6708    , 0.6235    , 0.5547    , 0.7149    , 0.6566    ,\n",
       "       0.7239    , 0.7089    , 0.6117    , 0.5427    , 1.3516    ,\n",
       "       0.657     , 0.6516    , 0.5547    , 0.6992    , 0.9443    ,\n",
       "       0.6422    , 0.4096    , 0.432     , 0.5829    , 0.5907    ,\n",
       "       0.7048    , 0.7245    , 0.6372    , 0.6159    , 0.5748    ,\n",
       "       0.7671    , 0.7708    , 0.6889    , 0.7212    , 0.7393    ,\n",
       "       0.7069    , 0.6988    , 0.6992    , 0.6529    , 0.6031    ,\n",
       "       0.6679    , 0.7062    , 0.6479    , 0.7498    , 0.7487    ,\n",
       "       0.7012    , 0.7246    , 0.7502    , 0.6429    , 0.6159    ,\n",
       "       0.6619    , 0.5193    , 0.7138    , 0.7156    , 0.6808    ,\n",
       "       0.5181    , 0.7658    , 0.7264    , 0.7994    , 0.6676    ,\n",
       "       0.613     , 0.4497    , 0.7289    , 0.7224    , 0.6904    ,\n",
       "       0.5419    , 0.611     , 0.6592    , 0.7819    , 0.7418    ,\n",
       "       1.007     , 0.7855    , 0.6849    , 0.6847    , 0.6937    ,\n",
       "       0.6723    , 0.7923    , 0.669     , 0.7053    , 0.5699    ])"
      ]
     },
     "execution_count": 288,
     "metadata": {},
     "output_type": "execute_result"
    }
   ],
   "source": [
    "array_earning"
   ]
  },
  {
   "cell_type": "code",
   "execution_count": 87,
   "metadata": {},
   "outputs": [
    {
     "data": {
      "text/plain": [
       "0.0415"
      ]
     },
     "execution_count": 87,
     "metadata": {},
     "output_type": "execute_result"
    }
   ],
   "source": [
    "array_earning.min()"
   ]
  },
  {
   "cell_type": "code",
   "execution_count": 72,
   "metadata": {},
   "outputs": [],
   "source": [
    "array_X = array_earning[0:50]\n",
    "array_y = array_earning[50:100]"
   ]
  },
  {
   "cell_type": "code",
   "execution_count": 467,
   "metadata": {},
   "outputs": [],
   "source": [
    "X = np.array(list(zip(array_earning,array_earning))).reshape(len(array_earning),2)"
   ]
  },
  {
   "cell_type": "code",
   "execution_count": 76,
   "metadata": {},
   "outputs": [],
   "source": [
    "from sklearn.cluster import KMeans\n",
    "from sklearn.metrics import silhouette_score"
   ]
  },
  {
   "cell_type": "code",
   "execution_count": 286,
   "metadata": {
    "collapsed": true
   },
   "outputs": [
    {
     "data": {
      "image/png": "[encoded data removed]",
      "text/plain": [
       "<Figure size 600x1200 with 5 Axes>"
      ]
     },
     "metadata": {
      "needs_background": "light"
     },
     "output_type": "display_data"
    }
   ],
   "source": [
    "color=['b','g','r','c','m','y','k','b']\n",
    "markers = ['o','s','D','v','^','p','*','+']\n",
    "clusters = [2,3,4,5,8]\n",
    "subplot_counter = 1\n",
    "sc_scores = []\n",
    "plt.figure(figsize=(10,20),dpi=60)\n",
    "for t in clusters:\n",
    "    subplot_counter += 1\n",
    "    plt.subplot(3,2,subplot_counter)\n",
    "    kmeans_model = KMeans(n_clusters=t).fit(X)\n",
    "    for i,l in enumerate(kmeans_model.labels_):\n",
    "        plt.scatter(X[i],X[i],color=color[l],marker=markers[l])\n",
    "        plt.xlim([0,1.1])\n",
    "        plt.ylim([0,1.1])\n",
    "        sc_score = silhouette_score(X,kmeans_model.labels_,metric='euclidean')\n",
    "    sc_scores.append(sc_score)\n",
    "    plt.title('K=%s,silhouette_coffient=%0.03f'%(t,sc_score),fontsize=20)\n",
    "plt.plot(clusters,sc_scores,'*-')\n",
    "plt.show()"
   ]
  },
  {
   "cell_type": "code",
   "execution_count": 469,
   "metadata": {},
   "outputs": [],
   "source": [
    "#根据kmeans分成五类，把每类的数据取出来\n",
    "earning_c=[]\n",
    "kmeans_model_earn = KMeans(5).fit(X)\n",
    "for i,l in enumerate(kmeans_model_earn.labels_):\n",
    "    earning_c.append((X[i][0],l))    "
   ]
  },
  {
   "cell_type": "code",
   "execution_count": 470,
   "metadata": {
    "collapsed": true
   },
   "outputs": [
    {
     "data": {
      "text/plain": [
       "[2.5333421052631575,\n",
       " 0.7996666666666666,\n",
       " 1.8820000000000001,\n",
       " 2.9104,\n",
       " 2.246097633136095]"
      ]
     },
     "execution_count": 470,
     "metadata": {},
     "output_type": "execute_result"
    }
   ],
   "source": [
    "earning_c0=[];earning_c1=[];earning_c2=[];earning_c3=[];earning_c4=[];ave_earn1y=[]\n",
    "earning_c0_d=[];earning_c1_d=[];earning_c2_d=[];earning_c3_d=[];earning_c4_d=[];ave_6m=[];ave_3m=[];ave_35d=[]\n",
    "for j in arange(len(earning_c)):\n",
    "    if earning_c[j][1] == 0:\n",
    "        earning_c0.append((earning_c[j][0],df[df['earn_7d']==earning_c[j][0]].p_code.values[0]))\n",
    "    elif earning_c[j][1] == 1:\n",
    "        earning_c1.append((earning_c[j][0],df[df['earn_7d']==earning_c[j][0]].p_code.values[0]))\n",
    "    elif earning_c[j][1] == 2:\n",
    "        earning_c2.append((earning_c[j][0],df[df['earn_7d']==earning_c[j][0]].p_code.values[0]))\n",
    "    elif earning_c[j][1] == 3:\n",
    "        earning_c3.append((earning_c[j][0],df[df['earn_7d']==earning_c[j][0]].p_code.values[0]))\n",
    "    else:\n",
    "        earning_c4.append((earning_c[j][0],df[df['earn_7d']==earning_c[j][0]].p_code.values[0]))\n",
    "for i in arange(len(earning_c0)):\n",
    "    earning_c0_d.append(earning_c0[i][0])\n",
    "for i in arange(len(earning_c1)):\n",
    "    earning_c1_d.append(earning_c1[i][0])\n",
    "for i in arange(len(earning_c2)):\n",
    "    earning_c2_d.append(earning_c2[i][0])\n",
    "for i in arange(len(earning_c3)):\n",
    "    earning_c3_d.append(earning_c3[i][0])\n",
    "for i in arange(len(earning_c4)):\n",
    "    earning_c4_d.append(earning_c4[i][0])\n",
    "ave_earn_0 = np.array(earning_c0_d).mean();ave_earn_1 = np.array(earning_c1_d).mean();ave_earn_2 = np.array(earning_c2_d).mean()\n",
    "ave_earn_3 = np.array(earning_c3_d).mean();ave_earn_4 = np.array(earning_c4_d).mean()\n",
    "ave_earn7d=[ave_earn_0,ave_earn_1,ave_earn_2,ave_earn_3,ave_earn_4]\n",
    "ave_earn7d"
   ]
  },
  {
   "cell_type": "code",
   "execution_count": 471,
   "metadata": {},
   "outputs": [],
   "source": [
    "ave_earn1y=[3.2121874999999998,\n",
    " 1.9925000000000002,\n",
    " 2.9552941176470586,\n",
    " 3.6584615384615375,\n",
    " 3.4097058823529416]\n",
    "ave_6m=[1.3169696969696971,\n",
    " 0.745,\n",
    " 1.5561111111111112,\n",
    " 1.4196874999999998,\n",
    " 1.1869230769230767]\n",
    "ave_3m=[0.6278378378378376,\n",
    " 0.3633333333333333,\n",
    " 0.6815384615384616,\n",
    " 0.5638461538461539,\n",
    " 0.74]\n",
    "ave_1m=[0.22675, 0.12, 0.20375, 0.24, 0.06]\n",
    "earn_35d=[2.88, 1.725, 2.5563076923076924, 1.075, 2.7456410256410253]\n",
    "earn_28d=[2.8738181818181814, 1.4, 2.4425384615384615, 0.65, 2.7006249999999996]\n",
    "earn_14d=[2.0375,\n",
    " 2.586363636363636,\n",
    " 0.7233333333333333,\n",
    " 2.357353846153846,\n",
    " 2.865555555555556]\n",
    "earn_7d=[2.5333421052631575,\n",
    " 0.7996666666666666,\n",
    " 1.8820000000000001,\n",
    " 2.9104,\n",
    " 2.246097633136095]"
   ]
  },
  {
   "cell_type": "code",
   "execution_count": 537,
   "metadata": {},
   "outputs": [
    {
     "name": "stdout",
     "output_type": "stream",
     "text": [
      "1.2984412857673724\n",
      "[[0.10956429]]\n"
     ]
    },
    {
     "data": {
      "image/png": "[encoded data removed]",
      "text/plain": [
       "<Figure size 720x600 with 1 Axes>"
      ]
     },
     "metadata": {
      "needs_background": "light"
     },
     "output_type": "display_data"
    }
   ],
   "source": [
    "from sklearn.linear_model import LinearRegression,Ridge\n",
    "\n",
    "month = [1,3,6,12]\n",
    "plt.figure(figsize=(12,10),dpi=60)\n",
    "Rireg = Ridge(alpha=0.5)\n",
    "Rireg.fit(np.array(month).reshape(-1,1),np.array([earn_7d[3],earn_14d[3],earn_28d[3],earn_35d[3]]).reshape(-1,1))\n",
    "plt.scatter(month,[earn_7d[3],earn_14d[3],earn_28d[3],earn_35d[3]],color='g')\n",
    "print (linreg.intercept_[0])\n",
    "print (linreg.coef_)\n",
    "plt.plot([2.5,11.5],[2.5*linreg.coef_[0] + linreg.intercept_[0], 11.5*linreg.coef_[0] + linreg.intercept_[0]],'r-',linewidth=2)\n",
    "# plt.xticks(fontsize=14);plt.yticks(fontsize=14)\n",
    "# plt.title('第二类理财收益预测（天）',fontsize=20)\n",
    "plt.show()      "
   ]
  },
  {
   "cell_type": "code",
   "execution_count": 494,
   "metadata": {},
   "outputs": [
    {
     "data": {
      "text/plain": [
       "[<matplotlib.lines.Line2D at 0x31f00a58>]"
      ]
     },
     "execution_count": 494,
     "metadata": {},
     "output_type": "execute_result"
    },
    {
     "data": {
      "image/png": "[encoded data removed]",
      "text/plain": [
       "<Figure size 432x288 with 1 Axes>"
      ]
     },
     "metadata": {
      "needs_background": "light"
     },
     "output_type": "display_data"
    }
   ],
   "source": [
    "plot([1,2,3], [1,2,3], 'go-', label='line 1', linewidth=2)"
   ]
  },
  {
   "cell_type": "code",
   "execution_count": 436,
   "metadata": {
    "collapsed": true
   },
   "outputs": [
    {
     "data": {
      "image/png": "[encoded data removed]",
      "text/plain": [
       "<Figure size 720x600 with 1 Axes>"
      ]
     },
     "metadata": {
      "needs_background": "light"
     },
     "output_type": "display_data"
    }
   ],
   "source": [
    "import random\n",
    "ave_uni = []\n",
    "all_colors = list(plt.cm.colors.cnames.keys())\n",
    "for k in ave_earn:\n",
    "    ave_uni.append(float('%.2f'%k))\n",
    "random.seed(10)\n",
    "c = random.choices(all_colors,k=6)\n",
    "plt.figure(figsize=(12,10),dpi=60)\n",
    "plt.bar([0,1,2,3,4],ave_earn,color=c,width=.4)\n",
    "for i,val in enumerate(ave_uni):\n",
    "    plt.text(i,val,str(val)+'%',horizontalalignment='center',verticalalignment='bottom', fontdict={'fontweight':500, 'size':18})\n",
    "plt.ylim(0,3.8)\n",
    "plt.title(\"Path_1y rate of different clusters of finacial products\", fontsize=22)\n",
    "plt.xticks(fontsize=16)\n",
    "plt.yticks(fontsize=16);plt.ylabel('收益率',fontsize=18)\n",
    "plt.show()"
   ]
  },
  {
   "cell_type": "code",
   "execution_count": 311,
   "metadata": {},
   "outputs": [
    {
     "data": {
      "text/plain": [
       "50003"
      ]
     },
     "execution_count": 311,
     "metadata": {},
     "output_type": "execute_result"
    }
   ],
   "source": [
    "dff = df[df['earning']==0.7393].p_code.values[0]\n",
    "dff"
   ]
  },
  {
   "cell_type": "code",
   "execution_count": 124,
   "metadata": {},
   "outputs": [],
   "source": [
    "df1_name= df.groupby(df['start_money'] == 5000000).apply(lambda x:x.loc[:,'p_name'])[1]"
   ]
  },
  {
   "cell_type": "code",
   "execution_count": 125,
   "metadata": {},
   "outputs": [],
   "source": [
    "df1_data=df.groupby(df['start_money'] == 5000000).apply(lambda x:x.loc[:,'earning'])[1]"
   ]
  },
  {
   "cell_type": "code",
   "execution_count": 131,
   "metadata": {},
   "outputs": [],
   "source": [
    "df1_data_norm=(df1_data-df1_data.mean())/df1_data.std()"
   ]
  },
  {
   "cell_type": "code",
   "execution_count": 156,
   "metadata": {},
   "outputs": [],
   "source": [
    "df2=df1_data_norm.sort_values()"
   ]
  },
  {
   "cell_type": "code",
   "execution_count": 157,
   "metadata": {
    "collapsed": true
   },
   "outputs": [
    {
     "data": {
      "text/plain": [
       "2    -3.336583e-01\n",
       "99   -1.231583e-01\n",
       "86   -8.205833e-02\n",
       "26   -6.955833e-02\n",
       "70   -3.115833e-02\n",
       "24   -2.895833e-02\n",
       "93   -8.358333e-03\n",
       "92   -8.158333e-03\n",
       "7     1.110223e-16\n",
       "38    6.141667e-03\n",
       "65    8.141667e-03\n",
       "98    1.224167e-02\n",
       "34    6.585417e-01\n",
       "Name: earning, dtype: float64"
      ]
     },
     "execution_count": 157,
     "metadata": {},
     "output_type": "execute_result"
    }
   ],
   "source": [
    "df2"
   ]
  },
  {
   "cell_type": "code",
   "execution_count": 160,
   "metadata": {},
   "outputs": [
    {
     "data": {
      "text/plain": [
       "Int64Index([2, 99, 86, 26, 70, 24, 93, 92, 7, 38, 65, 98, 34], dtype='int64')"
      ]
     },
     "execution_count": 160,
     "metadata": {},
     "output_type": "execute_result"
    }
   ],
   "source": [
    "df2.index"
   ]
  },
  {
   "cell_type": "code",
   "execution_count": 173,
   "metadata": {},
   "outputs": [],
   "source": [
    "n1 = np.arange(13)"
   ]
  },
  {
   "cell_type": "code",
   "execution_count": 167,
   "metadata": {
    "collapsed": true
   },
   "outputs": [
    {
     "data": {
      "text/plain": [
       "2      国泰现金管理货币B\n",
       "99     华商现金增利货币B\n",
       "86       前海开源货币B\n",
       "26      东吴增鑫宝货币B\n",
       "70         国开货币B\n",
       "24      兴业鑫天盈货币B\n",
       "93         中欧货币D\n",
       "92         中欧货币B\n",
       "7     民生加银腾元宝货币B\n",
       "38         东吴货币B\n",
       "65         交银货币B\n",
       "98      天弘弘运宝货币B\n",
       "34     北信瑞丰现金添利B\n",
       "Name: p_name, dtype: object"
      ]
     },
     "execution_count": 167,
     "metadata": {},
     "output_type": "execute_result"
    }
   ],
   "source": [
    "df1_name[df2.index]"
   ]
  },
  {
   "cell_type": "code",
   "execution_count": 142,
   "metadata": {},
   "outputs": [],
   "source": [
    "from pylab import *"
   ]
  },
  {
   "cell_type": "markdown",
   "metadata": {},
   "source": [
    "### 起买金额为5000000的收益率，分析有几只大于平均收益，有几只低于平均收益"
   ]
  },
  {
   "cell_type": "code",
   "execution_count": 220,
   "metadata": {
    "collapsed": true
   },
   "outputs": [
    {
     "data": {
      "image/png": "[encoded data removed]",
      "text/plain": [
       "<Figure size 720x600 with 1 Axes>"
      ]
     },
     "metadata": {
      "needs_background": "light"
     },
     "output_type": "display_data"
    }
   ],
   "source": [
    "mpl.rcParams['font.sans-serif'] = ['SimHei']\n",
    "plt.rcParams['axes.unicode_minus']=False\n",
    "colors = ['red' if x < 0 else 'green' for x in df2.values]\n",
    "plt.figure(figsize=(12,10),dpi=60)\n",
    "plt.hlines(n1,xmin=0,xmax=df2.values,color=colors,alpha=0.5,linewidth=5)\n",
    "# plt.gca().set(ylabel='$p_name$',xlabel='$earning$')\n",
    "plt.xlabel('$earning$',fontsize=14)\n",
    "plt.ylabel('p_name',fontsize=14)\n",
    "plt.yticks(n1,df1_name[df2.index].values,fontsize=12)\n",
    "plt.xticks(np.arange(-0.4,0.7,0.1),fontsize=12)\n",
    "plt.title('earning at start_money:500万', fontdict={'size':20})\n",
    "plt.grid(linestyle='--',alpha=0.5)\n",
    "plt.show()"
   ]
  },
  {
   "cell_type": "code",
   "execution_count": 201,
   "metadata": {},
   "outputs": [],
   "source": [
    "#将起投金额为100元的7日年化率，14日年化率，28日年化率，35日年化率数据挑选出来\n",
    "df1_data7=df.groupby(df['start_money'] == 100).apply(lambda x:x.loc[:,'earn_7d'])[1]\n",
    "df1_data14=df.groupby(df['start_money'] == 100).apply(lambda x:x.loc[:,'earn_14d'])[1]\n",
    "df1_data28=df.groupby(df['start_money'] == 100).apply(lambda x:x.loc[:,'earn_28d'])[1]\n",
    "df1_data35=df.groupby(df['start_money'] == 100).apply(lambda x:x.loc[:,'earn_35d'])[1]"
   ]
  },
  {
   "cell_type": "code",
   "execution_count": 202,
   "metadata": {},
   "outputs": [
    {
     "data": {
      "text/plain": [
       "84"
      ]
     },
     "execution_count": 202,
     "metadata": {},
     "output_type": "execute_result"
    }
   ],
   "source": [
    "len(df1_data7)"
   ]
  },
  {
   "cell_type": "code",
   "execution_count": 257,
   "metadata": {
    "collapsed": true
   },
   "outputs": [
    {
     "data": {
      "image/png": "[encoded data removed]",
      "text/plain": [
       "<Figure size 840x600 with 1 Axes>"
      ]
     },
     "metadata": {
      "needs_background": "light"
     },
     "output_type": "display_data"
    }
   ],
   "source": [
    "from sklearn.cluster import AgglomerativeClustering\n",
    "from scipy.spatial import ConvexHull\n",
    "\n",
    "#Agglomerative clusting\n",
    "cluster = AgglomerativeClustering(n_clusters=3, affinity='euclidean',linkage='ward')\n",
    "cluster.fit_predict(df[['earn_7d','earn_14d','earn_28d','earn_35d']])\n",
    "\n",
    "#plot\n",
    "plt.figure(figsize=(14,10),dpi=60)\n",
    "plt.scatter(df.iloc[:,5],df.iloc[:,7],c=cluster.labels_,cmap='tab10')\n",
    "\n",
    "#Encircle\n",
    "def encircle(x,y,ax=None,**kw):\n",
    "    if not ax:ax=plt.gca()\n",
    "    p = np.c_[x,y]\n",
    "    hull = ConvexHull(p)\n",
    "    poly = plt.Polygon(p[hull.vertices,:],**kw)\n",
    "    ax.add_patch(poly)\n",
    "\n",
    "#Draw polygon surrounding vertices\n",
    "encircle(df.loc[cluster.labels_ == 0,'earn_14d'],df.loc[cluster.labels_ == 0,'earn_35d'],ec=\"k\", fc=\"gold\", alpha=0.2, linewidth=0)\n",
    "encircle(df.loc[cluster.labels_ == 1,'earn_14d'],df.loc[cluster.labels_ == 1,'earn_35d'],ec=\"k\", fc=\"tab:blue\", alpha=0.2, linewidth=0)\n",
    "encircle(df.loc[cluster.labels_ == 2,'earn_14d'],df.loc[cluster.labels_ == 2,'earn_35d'],ec=\"k\", fc=\"tab:green\", alpha=0.2, linewidth=0)\n",
    "# encircle(df.loc[cluster.labels_ == 3,'earn_7d'],df.loc[cluster.labels_ == 3,'earn_28d'])\n",
    "# encircle(df.loc[cluster.labels_ == 4,'earn_7d'],df.loc[cluster.labels_ == 4,'earn_28d'])\n",
    "plt.xlabel('earn_14d',fontsize=16);plt.xticks(fontsize=14)\n",
    "plt.ylabel('earn_35d',fontsize=16);plt.yticks(fontsize=14)\n",
    "plt.title(\"earn_14d和earn_35d联合分组\",fontsize=20)\n",
    "plt.show()"
   ]
  },
  {
   "cell_type": "code",
   "execution_count": 261,
   "metadata": {},
   "outputs": [],
   "source": [
    "df1_3m_100 = df.groupby(df['start_money'] == 100).apply(lambda x:x.loc[:,'path_3m'])[1]\n",
    "df1_3m_100 = df1_3m_100 * 100\n",
    "df1_3m_500 = df.groupby(df['start_money'] == 5000000).apply(lambda x:x.loc[:,'path_3m'])[1]\n",
    "df1_3m_500 = df1_3m_500 * 100"
   ]
  },
  {
   "cell_type": "code",
   "execution_count": 284,
   "metadata": {},
   "outputs": [
    {
     "data": {
      "image/png": "[encoded data removed]",
      "text/plain": [
       "<Figure size 1040x800 with 1 Axes>"
      ]
     },
     "metadata": {
      "needs_background": "light"
     },
     "output_type": "display_data"
    }
   ],
   "source": [
    "#直方密度线图\n",
    "import seaborn as sns\n",
    "plt.figure(figsize=(13,10), dpi=80)\n",
    "sns.distplot(df1_3m_100,color='green',label='100_start',hist_kws={'alpha':.6},kde_kws={'linewidth':3,'alpha':.8})\n",
    "# sns.distplot(df.loc[df['start_money'] == 1000,'path_3m'],color='orange',label='1000_start',hist_kws={'alpha':.7},kde_kws={'linewidth':3})\n",
    "sns.distplot(df1_3m_500,color='orange',label='5000000_start',hist_kws={'alpha':.6},kde_kws={'linewidth':3,'alpha':.8})\n",
    "plt.yticks(np.arange(0,0.12,0.02))\n",
    "\n",
    "# Decoration\n",
    "plt.title('Density Plot of path_1m by Start_money', fontsize=22)\n",
    "plt.legend()\n",
    "plt.xticks(np.arange(30,90,10),['0.3%','0.4%','0.5%','0.6%','0.7%','0.8%'],fontsize=14)\n",
    "plt.show()"
   ]
  },
  {
   "cell_type": "code",
   "execution_count": 246,
   "metadata": {},
   "outputs": [
    {
     "data": {
      "text/plain": [
       "3"
      ]
     },
     "execution_count": 246,
     "metadata": {},
     "output_type": "execute_result"
    }
   ],
   "source": [
    "df.loc[df['start_money'] == 1000,'path_3m'].size"
   ]
  }
 ],
 "metadata": {
  "kernelspec": {
   "display_name": "Python 3",
   "language": "python",
   "name": "python3"
  },
  "language_info": {
   "codemirror_mode": {
    "name": "ipython",
    "version": 3
   },
   "file_extension": ".py",
   "mimetype": "text/x-python",
   "name": "python",
   "nbconvert_exporter": "python",
   "pygments_lexer": "ipython3",
   "version": "3.6.5"
  }
 },
 "nbformat": 4,
 "nbformat_minor": 2
}
